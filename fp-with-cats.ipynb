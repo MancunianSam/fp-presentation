{
 "cells": [
  {
   "cell_type": "markdown",
   "metadata": {
    "slideshow": {
     "slide_type": "slide"
    }
   },
   "source": [
    "# Functional programming in Scala\n",
    "\n"
   ]
  },
  {
   "cell_type": "markdown",
   "metadata": {
    "slideshow": {
     "slide_type": "slide"
    }
   },
   "source": [
    "# What is functional programming?"
   ]
  },
  {
   "cell_type": "markdown",
   "metadata": {
    "slideshow": {
     "slide_type": "fragment"
    }
   },
   "source": [
    "Pure functional programming has a few base concepts"
   ]
  },
  {
   "cell_type": "markdown",
   "metadata": {
    "slideshow": {
     "slide_type": "fragment"
    }
   },
   "source": [
    "* Immutable values\n",
    "* First class functions\n",
    "* Referential transparency\n",
    "* Lazy evaluation"
   ]
  },
  {
   "cell_type": "markdown",
   "metadata": {
    "slideshow": {
     "slide_type": "slide"
    }
   },
   "source": [
    "## First class functions\n",
    "\n",
    "From Wikipedia:\n",
    "> This means the language supports passing functions as arguments to other functions, returning them as the values from other functions, and assigning them to variables or storing them in data structures\n"
   ]
  },
  {
   "cell_type": "code",
   "execution_count": 29,
   "metadata": {
    "slideshow": {
     "slide_type": "slide"
    }
   },
   "outputs": [
    {
     "data": {
      "text/plain": [
       "\u001b[36mfn\u001b[39m: \u001b[32mString\u001b[39m => \u001b[32mString\u001b[39m = ammonite.$sess.cmd28$Helper$$Lambda$2289/1402542355@37eb60bf\n",
       "\u001b[36mres28_1\u001b[39m: \u001b[32mString\u001b[39m = \u001b[32m\"Hello Bob\"\u001b[39m\n",
       "defined \u001b[32mfunction\u001b[39m \u001b[36mgetFn\u001b[39m\n",
       "\u001b[36mres28_3\u001b[39m: \u001b[32mString\u001b[39m = \u001b[32m\"Hello Bob\"\u001b[39m\n",
       "defined \u001b[32mfunction\u001b[39m \u001b[36mgreet\u001b[39m\n",
       "\u001b[36mres28_5\u001b[39m: \u001b[32mString\u001b[39m = \u001b[32m\"Hello Bob\"\u001b[39m\n",
       "\u001b[36mres28_6\u001b[39m: \u001b[32mString\u001b[39m = \u001b[32m\"Hello Bob\"\u001b[39m"
      ]
     },
     "execution_count": 29,
     "metadata": {},
     "output_type": "execute_result"
    }
   ],
   "source": [
    "//Assign a function to a variable\n",
    "val fn = (name: String) => s\"Hello $name\"\n",
    "fn(\"Bob\")\n",
    "\n",
    "//Return a function from another function\n",
    "def getFn() = (name: String) => s\"Hello $name\"\n",
    "getFn()(\"Bob\")\n",
    "\n",
    "//Passing functions as arguments\n",
    "def greet(fn: String => String, name: String) = {\n",
    "    fn(name)\n",
    "}\n",
    "greet(fn, \"Bob\")\n",
    "\n",
    "// Storing functions in data structures\n",
    "List(fn).head(\"Bob\")"
   ]
  },
  {
   "cell_type": "markdown",
   "metadata": {
    "slideshow": {
     "slide_type": "slide"
    }
   },
   "source": [
    "## Referential transparency\n",
    "\n",
    "From Wikipedia:\n",
    "> The function `rt` is referentially transparent, which means that if `x == y` then `rt(x) == rt(y)`\n",
    "\n",
    "It is a function whose output depends entirely on its input values and has no side effects. If a function is referentially transparent, it is a pure function. \n"
   ]
  },
  {
   "cell_type": "code",
   "execution_count": 16,
   "metadata": {
    "scrolled": true,
    "slideshow": {
     "slide_type": "fragment"
    }
   },
   "outputs": [
    {
     "data": {
      "text/plain": [
       "defined \u001b[32mfunction\u001b[39m \u001b[36mgreet\u001b[39m\n",
       "\u001b[36mres15_1\u001b[39m: \u001b[32mBoolean\u001b[39m = true"
      ]
     },
     "execution_count": 16,
     "metadata": {},
     "output_type": "execute_result"
    }
   ],
   "source": [
    "// This is pure\n",
    "def greet(name: String) = {\n",
    "    s\"Hello $name\"\n",
    "}\n",
    "greet(\"Bob\") == greet(\"Bob\")\n"
   ]
  },
  {
   "cell_type": "code",
   "execution_count": 22,
   "metadata": {
    "slideshow": {
     "slide_type": "slide"
    }
   },
   "outputs": [
    {
     "data": {
      "text/html": [
       "<div class=\"jp-RenderedText\">\n",
       "<pre><code><span style=\"color: rgb(0, 187, 0)\"><span class=\"ansi-green-fg\">import </span></span><span style=\"color: rgb(0, 187, 187)\"><span class=\"ansi-cyan-fg\">java.lang.Math\n",
       "</span></span>\n",
       "<span style=\"color: rgb(0, 187, 187)\"><span class=\"ansi-cyan-fg\">index</span></span>: <span style=\"color: rgb(0, 187, 0)\"><span class=\"ansi-green-fg\">Int</span></span> = <span style=\"color: rgb(0, 187, 0)\"><span class=\"ansi-green-fg\">0</span></span>\n",
       "<span style=\"color: rgb(0, 187, 187)\"><span class=\"ansi-cyan-fg\">greetings</span></span>: <span style=\"color: rgb(0, 187, 0)\"><span class=\"ansi-green-fg\">List</span></span>[<span style=\"color: rgb(0, 187, 0)\"><span class=\"ansi-green-fg\">String</span></span>] = <span style=\"color: yellow\"><span class=\"ansi-yellow-fg\">List</span></span>(<span style=\"color: rgb(0, 187, 0)\"><span class=\"ansi-green-fg\">&quot;Hello&quot;</span></span>, <span style=\"color: rgb(0, 187, 0)\"><span class=\"ansi-green-fg\">&quot;Goodbye&quot;</span></span>)\n",
       "defined <span style=\"color: rgb(0, 187, 0)\"><span class=\"ansi-green-fg\">function</span></span> <span style=\"color: rgb(0, 187, 187)\"><span class=\"ansi-cyan-fg\">greet</span></span>\n",
       "<span style=\"color: rgb(0, 187, 187)\"><span class=\"ansi-cyan-fg\">res21_4</span></span>: <span style=\"color: rgb(0, 187, 0)\"><span class=\"ansi-green-fg\">Boolean</span></span> = false</code></pre>\n",
       "</div>"
      ],
      "text/plain": [
       "\u001b[32mimport \u001b[39m\u001b[36mjava.lang.Math\n",
       "\u001b[39m\n",
       "\u001b[36mindex\u001b[39m: \u001b[32mInt\u001b[39m = \u001b[32m0\u001b[39m\n",
       "\u001b[36mgreetings\u001b[39m: \u001b[32mList\u001b[39m[\u001b[32mString\u001b[39m] = \u001b[33mList\u001b[39m(\u001b[32m\"Hello\"\u001b[39m, \u001b[32m\"Goodbye\"\u001b[39m)\n",
       "defined \u001b[32mfunction\u001b[39m \u001b[36mgreet\u001b[39m\n",
       "\u001b[36mres21_4\u001b[39m: \u001b[32mBoolean\u001b[39m = false"
      ]
     },
     "metadata": {},
     "output_type": "display_data"
    }
   ],
   "source": [
    "import java.lang.Math\n",
    "var index = 0\n",
    "val greetings = List(\"Hello\", \"Goodbye\")\n",
    "\n",
    "// This is not pure as it depends on a value outside the function which can change\n",
    "def greet(name: String) = {\n",
    "    index = if(index == 0) 1 else 0\n",
    "    s\"${greetings(index)} $name\"\n",
    "    \n",
    "}\n",
    "greet(\"Bob\") == greet(\"Bob\")"
   ]
  },
  {
   "cell_type": "code",
   "execution_count": 24,
   "metadata": {
    "slideshow": {
     "slide_type": "slide"
    }
   },
   "outputs": [
    {
     "data": {
      "text/plain": [
       "defined \u001b[32mfunction\u001b[39m \u001b[36mwriteToDatabase\u001b[39m\n",
       "defined \u001b[32mfunction\u001b[39m \u001b[36mgreet\u001b[39m\n",
       "\u001b[36mres23_2\u001b[39m: \u001b[32mBoolean\u001b[39m = false"
      ]
     },
     "execution_count": 24,
     "metadata": {},
     "output_type": "execute_result"
    }
   ],
   "source": [
    "def writeToDatabase(greeting: String) = {\n",
    "  Math.round(Math.random()).toInt match {\n",
    "    case 0 => \"OK\"\n",
    "    case 1 => \"Error\"\n",
    "  }\n",
    "}\n",
    "\n",
    "// This is not pure as it performs IO which can return different results on different function calls.\n",
    "def greet(name: String) = {\n",
    "  writeToDatabase(s\"Hello $name\")  \n",
    "}\n",
    "\n",
    "greet(\"Bob\") == greet(\"Bob\")"
   ]
  },
  {
   "cell_type": "markdown",
   "metadata": {
    "slideshow": {
     "slide_type": "slide"
    }
   },
   "source": [
    "## Lazy evaluation\n",
    "\n",
    "Lazy evaluation means that an expression isn't evaluated until it is first used. This is often used in combination with memoisation, which caches the result of the expression to speed up subsequent calls.\n"
   ]
  },
  {
   "cell_type": "code",
   "execution_count": 41,
   "metadata": {
    "slideshow": {
     "slide_type": "slide"
    }
   },
   "outputs": [
    {
     "data": {
      "text/html": [
       "<div class=\"jp-RenderedText\">\n",
       "<pre><code><span style=\"color: rgb(0, 187, 0)\"><span class=\"ansi-green-fg\">import </span></span><span style=\"color: rgb(0, 187, 187)\"><span class=\"ansi-cyan-fg\">java.lang.Math \n",
       "//def is lazy and not memoised\n",
       "</span></span>\n",
       "defined <span style=\"color: rgb(0, 187, 0)\"><span class=\"ansi-green-fg\">function</span></span> <span style=\"color: rgb(0, 187, 187)\"><span class=\"ansi-cyan-fg\">lazyDef</span></span>\n",
       "<span style=\"color: rgb(0, 187, 187)\"><span class=\"ansi-cyan-fg\">lazyVal</span></span>: <span style=\"color: rgb(0, 187, 0)\"><span class=\"ansi-green-fg\">Double</span></span> = <span style=\"color: white\"><span class=\"ansi-white-fg\">[lazy]</span></span>\n",
       "<span style=\"color: rgb(0, 187, 187)\"><span class=\"ansi-cyan-fg\">eagerVal</span></span>: <span style=\"color: rgb(0, 187, 0)\"><span class=\"ansi-green-fg\">Double</span></span> = <span style=\"color: rgb(0, 187, 0)\"><span class=\"ansi-green-fg\">0.13254222813187422</span></span>\n",
       "<span style=\"color: rgb(0, 187, 187)\"><span class=\"ansi-cyan-fg\">res40_4</span></span>: <span style=\"color: rgb(0, 187, 0)\"><span class=\"ansi-green-fg\">Double</span></span> = <span style=\"color: rgb(0, 187, 0)\"><span class=\"ansi-green-fg\">0.2670494244585544</span></span>\n",
       "<span style=\"color: rgb(0, 187, 187)\"><span class=\"ansi-cyan-fg\">res40_5</span></span>: <span style=\"color: rgb(0, 187, 0)\"><span class=\"ansi-green-fg\">Double</span></span> = <span style=\"color: rgb(0, 187, 0)\"><span class=\"ansi-green-fg\">0.44573899425105823</span></span>\n",
       "<span style=\"color: rgb(0, 187, 187)\"><span class=\"ansi-cyan-fg\">res40_6</span></span>: <span style=\"color: rgb(0, 187, 0)\"><span class=\"ansi-green-fg\">Double</span></span> = <span style=\"color: rgb(0, 187, 0)\"><span class=\"ansi-green-fg\">0.2531792624000142</span></span>\n",
       "<span style=\"color: rgb(0, 187, 187)\"><span class=\"ansi-cyan-fg\">res40_7</span></span>: <span style=\"color: rgb(0, 187, 0)\"><span class=\"ansi-green-fg\">Double</span></span> = <span style=\"color: rgb(0, 187, 0)\"><span class=\"ansi-green-fg\">0.2531792624000142</span></span>\n",
       "<span style=\"color: rgb(0, 187, 187)\"><span class=\"ansi-cyan-fg\">res40_8</span></span>: <span style=\"color: rgb(0, 187, 0)\"><span class=\"ansi-green-fg\">Double</span></span> = <span style=\"color: rgb(0, 187, 0)\"><span class=\"ansi-green-fg\">0.13254222813187422</span></span>\n",
       "<span style=\"color: rgb(0, 187, 187)\"><span class=\"ansi-cyan-fg\">res40_9</span></span>: <span style=\"color: rgb(0, 187, 0)\"><span class=\"ansi-green-fg\">Double</span></span> = <span style=\"color: rgb(0, 187, 0)\"><span class=\"ansi-green-fg\">0.13254222813187422</span></span></code></pre>\n",
       "</div>"
      ],
      "text/plain": [
       "\u001b[32mimport \u001b[39m\u001b[36mjava.lang.Math \n",
       "//def is lazy and not memoised\n",
       "\u001b[39m\n",
       "defined \u001b[32mfunction\u001b[39m \u001b[36mlazyDef\u001b[39m\n",
       "\u001b[36mlazyVal\u001b[39m: \u001b[32mDouble\u001b[39m = \u001b[37m[lazy]\u001b[39m\n",
       "\u001b[36meagerVal\u001b[39m: \u001b[32mDouble\u001b[39m = \u001b[32m0.13254222813187422\u001b[39m\n",
       "\u001b[36mres40_4\u001b[39m: \u001b[32mDouble\u001b[39m = \u001b[32m0.2670494244585544\u001b[39m\n",
       "\u001b[36mres40_5\u001b[39m: \u001b[32mDouble\u001b[39m = \u001b[32m0.44573899425105823\u001b[39m\n",
       "\u001b[36mres40_6\u001b[39m: \u001b[32mDouble\u001b[39m = \u001b[32m0.2531792624000142\u001b[39m\n",
       "\u001b[36mres40_7\u001b[39m: \u001b[32mDouble\u001b[39m = \u001b[32m0.2531792624000142\u001b[39m\n",
       "\u001b[36mres40_8\u001b[39m: \u001b[32mDouble\u001b[39m = \u001b[32m0.13254222813187422\u001b[39m\n",
       "\u001b[36mres40_9\u001b[39m: \u001b[32mDouble\u001b[39m = \u001b[32m0.13254222813187422\u001b[39m"
      ]
     },
     "metadata": {},
     "output_type": "display_data"
    }
   ],
   "source": [
    "import java.lang.Math \n",
    "//def is lazy and not memoised\n",
    "def lazyDef = Math.random\n",
    "\n",
    "//lazy val is lazy and memoised\n",
    "lazy val lazyVal = Math.random\n",
    "\n",
    "//val is eager and memoised\n",
    "val eagerVal = Math.random //Math.random is evaluated here\n",
    "\n",
    "//Calling lazyDef twice will produce different values\n",
    "lazyDef //Math.random is evaluated here\n",
    "lazyDef //And here\n",
    "\n",
    "//Calling lazyVal twice produces the same value\n",
    "lazyVal //Math.random is evaluated here\n",
    "lazyVal //But not here\n",
    "\n",
    "//Calling eagerVal \n",
    "eagerVal //Math.random is not evaluated here\n",
    "eagerVal //Or here"
   ]
  },
  {
   "cell_type": "markdown",
   "metadata": {
    "slideshow": {
     "slide_type": "slide"
    }
   },
   "source": [
    "## The problem\n",
    "\n",
    "Functional languages like Haskell have never been at the top of the popularity lists and probably never will be. While languages like Java and Python have been incorporating functional features into the language for some time, many people never use them and never want to. What stops people writing programs in a pure functional style. I don't know but there are some possibilities.\n",
    "\n",
    "* Many people are taught with Java, Python or Javascript and these are still [some of the most popular languages](https://insights.stackoverflow.com/survey/2020#technology-programming-scripting-and-markup-languages) These were never designed as functional languages and so they're not taught as such.\n",
    "* The method of teaching functional programming is often not friendly to beginners. Its history starts with lambda calculus and modern languages use a lot of terminology from category theory. A lot of teaching materials still start with this maths heavy approach which is difficult and most don't start with \"Hello World\" as this is IO and is usually avoided where possible."
   ]
  },
  {
   "cell_type": "markdown",
   "metadata": {
    "slideshow": {
     "slide_type": "slide"
    }
   },
   "source": [
    "## Why bother then?\n",
    "\n",
    "It is true that people can write clean, correct, readable programs using purely imperative code. So what advantages do we get from using pure functions.\n",
    "\n",
    "* It is modular. Each function is self contained and lazily evaluated so you are always sure that you will get the same output from the same input. You can then glue these modules together into a larger program. \n",
    "* You can swap out the implementation of any of the modules for a different one providing the method contract remains the same.\n",
    "* Each individual module can be tested in isolation.\n",
    "* Because state is never modified directly, it can be useful for building distributed systems.\n"
   ]
  },
  {
   "cell_type": "markdown",
   "metadata": {
    "slideshow": {
     "slide_type": "slide"
    }
   },
   "source": [
    "## Side effects\n",
    "\n",
    "> A side effect is when a function relies on, or modifies, something outside its parameters to do something\n",
    "\n",
    "This includes calls to a database, requests to an external API, receiving messages from an external queue, in short, almost everything that makes a program do useful work. So completely pure programs are rarely useful on their own and some amount of IO is needed. I'll focus on one way of doing this using the [Cats library for Scala](https://typelevel.org/cats/)"
   ]
  },
  {
   "cell_type": "markdown",
   "metadata": {
    "slideshow": {
     "slide_type": "slide"
    }
   },
   "source": [
    "## Monads\n",
    "\n",
    "Monads need a quick mention here. There is a lot of very maths heavy literature out there about monads which we don't need to worry about. A monad in Scala is an object which wraps another object and has a flatMap function. There are many built in ones. `Either` and `Option` being two of the most common."
   ]
  },
  {
   "cell_type": "code",
   "execution_count": 45,
   "metadata": {
    "slideshow": {
     "slide_type": "slide"
    }
   },
   "outputs": [
    {
     "data": {
      "text/plain": [
       "\u001b[36meitherOk\u001b[39m: \u001b[32mEither\u001b[39m[\u001b[32mString\u001b[39m, \u001b[32mString\u001b[39m] = \u001b[33mRight\u001b[39m(\u001b[32m\"OK\"\u001b[39m)\n",
       "\u001b[36mres44_1\u001b[39m: \u001b[32mEither\u001b[39m[\u001b[32mString\u001b[39m, \u001b[32mString\u001b[39m] = \u001b[33mRight\u001b[39m(\u001b[32m\"Result is OK\"\u001b[39m)\n",
       "\u001b[36mres44_2\u001b[39m: \u001b[32mEither\u001b[39m[\u001b[32mString\u001b[39m, \u001b[32mString\u001b[39m] = \u001b[33mRight\u001b[39m(\u001b[32m\"Result is OK\"\u001b[39m)\n",
       "\u001b[36mres44_3\u001b[39m: \u001b[32mOption\u001b[39m[\u001b[32mString\u001b[39m] = \u001b[33mSome\u001b[39m(\u001b[32m\"Lots of options\"\u001b[39m)"
      ]
     },
     "execution_count": 45,
     "metadata": {},
     "output_type": "execute_result"
    }
   ],
   "source": [
    "val eitherOk: Either[String, String] = Right(\"OK\")\n",
    "// Use flat map to chain Either\n",
    "eitherOk.flatMap(e => {\n",
    "    Right(s\"Result is $e\")\n",
    "})\n",
    "\n",
    "// Or use a for comprehension which is equivalent\n",
    "for {\n",
    "    a <- eitherOk\n",
    "    b <- Right(s\"Result is $a\")\n",
    "} yield b\n",
    "\n",
    "// Works for Option\n",
    "for {\n",
    "    a <- Some(\"Lots\")\n",
    "    b <- Some(\"of\")\n",
    "    c <- Some(\"options\")\n",
    "} yield s\"$a $b $c\"\n"
   ]
  },
  {
   "cell_type": "code",
   "execution_count": 45,
   "metadata": {
    "slideshow": {
     "slide_type": "slide"
    }
   },
   "outputs": [
    {
     "name": "stderr",
     "output_type": "stream",
     "text": [
      "cmd45.sc:4: type mismatch;\n",
      " found   : Option[String]\n",
      " required: scala.util.Either[?,?]\n",
      "    c <- Some(\"options\")\n",
      "      ^cmd45.sc:3: type mismatch;\n",
      " found   : scala.util.Either[Nothing,Nothing]\n",
      " required: Option[?]\n",
      "    b <- Right(\"Either\")\n",
      "      ^Compilation Failed"
     ]
    },
    {
     "ename": "",
     "evalue": "",
     "output_type": "error",
     "traceback": [
      "Compilation Failed"
     ]
    }
   ],
   "source": [
    "// You can't mix them though\n",
    "for {\n",
    "    a <- Some(\"Lots\")\n",
    "    b <- Right(\"Either\")\n",
    "    c <- Some(\"options\")\n",
    "} yield s\"$a $b $c\""
   ]
  },
  {
   "cell_type": "markdown",
   "metadata": {
    "slideshow": {
     "slide_type": "slide"
    }
   },
   "source": [
    "## The end of the world\n",
    "\n",
    "A common solution to the problem of trying to carry out interesting side effects in what is supposed to be a purely functional program is to wrap the code which carries out the side effect in a set of monads which are lazily evaluated. The different monads are chained together with flatMap and are only executed \"at the end of the world\" i.e. at the very end of the program. With the cats library, this monad is called `IO`\n",
    "\n",
    "This is the first few lines of the `IO` object. The apply method takes the body and calls delay on it. This is then executed at the end of the program, either by calling IOs `unsafeRunSync` method directly or by using helper classes like `IOApp` from the `cats-effect` library.\n",
    "\n"
   ]
  },
  {
   "cell_type": "code",
   "execution_count": null,
   "metadata": {
    "slideshow": {
     "slide_type": "fragment"
    }
   },
   "outputs": [],
   "source": [
    "object IO extends IOInstances {\n",
    "\n",
    "  /**\n",
    "   * Suspends a synchronous side effect in `IO`.\n",
    "   *\n",
    "   * Alias for `IO.delay(body)`.\n",
    "   */\n",
    "  def apply[A](body: => A): IO[A] =\n",
    "    delay(body)\n",
    "    \n",
    "  //Lots more stuff\n",
    "}"
   ]
  },
  {
   "cell_type": "markdown",
   "metadata": {
    "slideshow": {
     "slide_type": "slide"
    }
   },
   "source": [
    "## Is my function pure now?\n",
    "\n",
    "Sort of..."
   ]
  },
  {
   "cell_type": "code",
   "execution_count": 87,
   "metadata": {
    "slideshow": {
     "slide_type": "skip"
    }
   },
   "outputs": [
    {
     "data": {
      "text/plain": [
       "\u001b[32mimport \u001b[39m\u001b[36m$ivy.$                                 \n",
       "\u001b[39m\n",
       "\u001b[32mimport \u001b[39m\u001b[36mscala.concurrent.{Future, Await}\n",
       "\u001b[39m\n",
       "\u001b[32mimport \u001b[39m\u001b[36mscala.concurrent.duration._\n",
       "\u001b[39m\n",
       "\u001b[32mimport \u001b[39m\u001b[36mcats.effect._\n",
       "\u001b[39m\n",
       "\u001b[32mimport \u001b[39m\u001b[36mscala.util.Try\n",
       "\u001b[39m\n",
       "\u001b[32mimport \u001b[39m\u001b[36mjava.io.{File, FileOutputStream}\u001b[39m"
      ]
     },
     "execution_count": 87,
     "metadata": {},
     "output_type": "execute_result"
    }
   ],
   "source": [
    "import $ivy.`org.typelevel::cats-effect:2.2.0`\n",
    "import scala.concurrent.{Future, Await}\n",
    "import scala.concurrent.duration._\n",
    "import cats.effect._\n",
    "import scala.util.Try\n",
    "import java.io.{File, FileOutputStream}"
   ]
  },
  {
   "cell_type": "code",
   "execution_count": 72,
   "metadata": {
    "slideshow": {
     "slide_type": "fragment"
    }
   },
   "outputs": [
    {
     "data": {
      "text/html": [
       "<div class=\"jp-RenderedText\">\n",
       "<pre><code><span style=\"color: rgb(0, 187, 187)\"><span class=\"ansi-cyan-fg\">index</span></span>: <span style=\"color: rgb(0, 187, 0)\"><span class=\"ansi-green-fg\">Int</span></span> = <span style=\"color: rgb(0, 187, 0)\"><span class=\"ansi-green-fg\">1</span></span>\n",
       "defined <span style=\"color: rgb(0, 187, 0)\"><span class=\"ansi-green-fg\">function</span></span> <span style=\"color: rgb(0, 187, 187)\"><span class=\"ansi-cyan-fg\">writeToDatabase</span></span>\n",
       "<span style=\"color: rgb(0, 187, 187)\"><span class=\"ansi-cyan-fg\">io</span></span>: <span style=\"color: rgb(0, 187, 0)\"><span class=\"ansi-green-fg\">IO</span></span>[<span style=\"color: rgb(0, 187, 0)\"><span class=\"ansi-green-fg\">String</span></span>] = <span style=\"color: yellow\"><span class=\"ansi-yellow-fg\">Delay</span></span>(\n",
       "  ammonite.$sess.cmd71$Helper$$Lambda$3530/623536180@105878c9\n",
       ")\n",
       "<span style=\"color: rgb(0, 187, 187)\"><span class=\"ansi-cyan-fg\">res71_3</span></span>: <span style=\"color: rgb(0, 187, 0)\"><span class=\"ansi-green-fg\">Int</span></span> = <span style=\"color: rgb(0, 187, 0)\"><span class=\"ansi-green-fg\">0</span></span>\n",
       "<span style=\"color: rgb(0, 187, 187)\"><span class=\"ansi-cyan-fg\">res71_4</span></span>: <span style=\"color: rgb(0, 187, 0)\"><span class=\"ansi-green-fg\">String</span></span> = <span style=\"color: rgb(0, 187, 0)\"><span class=\"ansi-green-fg\">&quot;Error&quot;</span></span>\n",
       "<span style=\"color: rgb(0, 187, 187)\"><span class=\"ansi-cyan-fg\">res71_5</span></span>: <span style=\"color: rgb(0, 187, 0)\"><span class=\"ansi-green-fg\">Int</span></span> = <span style=\"color: rgb(0, 187, 0)\"><span class=\"ansi-green-fg\">1</span></span></code></pre>\n",
       "</div>"
      ],
      "text/plain": [
       "\u001b[36mindex\u001b[39m: \u001b[32mInt\u001b[39m = \u001b[32m1\u001b[39m\n",
       "defined \u001b[32mfunction\u001b[39m \u001b[36mwriteToDatabase\u001b[39m\n",
       "\u001b[36mio\u001b[39m: \u001b[32mIO\u001b[39m[\u001b[32mString\u001b[39m] = \u001b[33mDelay\u001b[39m(\n",
       "  ammonite.$sess.cmd71$Helper$$Lambda$3530/623536180@105878c9\n",
       ")\n",
       "\u001b[36mres71_3\u001b[39m: \u001b[32mInt\u001b[39m = \u001b[32m0\u001b[39m\n",
       "\u001b[36mres71_4\u001b[39m: \u001b[32mString\u001b[39m = \u001b[32m\"Error\"\u001b[39m\n",
       "\u001b[36mres71_5\u001b[39m: \u001b[32mInt\u001b[39m = \u001b[32m1\u001b[39m"
      ]
     },
     "metadata": {},
     "output_type": "display_data"
    }
   ],
   "source": [
    "var index = 0\n",
    "def writeToDatabase(greeting: String) = {\n",
    "  index = index + 1\n",
    "  if(index % 2 == 0) \"OK\" else \"Error\"\n",
    "}\n",
    "val io = IO(writeToDatabase(\"Bob\"))\n",
    "index //writeToDatabase has not run\n",
    "\n",
    "io.unsafeRunSync()\n",
    "index //writeToDatabase has run"
   ]
  },
  {
   "cell_type": "markdown",
   "metadata": {
    "slideshow": {
     "slide_type": "slide"
    }
   },
   "source": [
    "Calling `writeToDatabase` within the `IO` monad no longer runs the code inside the function. So if you repeatedly call `IO(writeToDatabase(\"Bob\"))`, you will always get an `IO` wrapper around the function code. This does technically meet the definition of a pure function but on it's own, it isn't that useful until you run the `IO` wrapped code at the end of the world.\n",
    "\n",
    "Martin Odersky said\n",
    "> The IO monad does not make a function pure. It just makes it obvious that it’s impure.\n",
    "\n",
    "Which is a reasonable reason for using it anyway. There are other advantages though."
   ]
  },
  {
   "cell_type": "markdown",
   "metadata": {
    "slideshow": {
     "slide_type": "slide"
    }
   },
   "source": [
    "## Scala Future past?\n",
    "\n",
    "The next snippet shows three features of `Future` that may cause problems.\n",
    "* The first shows that `Future` is eager. The statement `Future(println(\"Future is eager\"))` executes the side effect but the result is lost as it is not assigned to a variable. You can also see that the final statement started before the second statement.\n",
    "* The second shows that `Future` is memoised. This breaks referential transparency. You can't replace the value `a` with the body `Future(println(\"Future is memoised\")` This may become a problem when refactoring existing `Future` code.\n",
    "* The ExecutionContext needs to be in every class where you're carrying out any operations on `Future`. It needs to be passed implicitly down through many layers of classes inside an application\n",
    "\n",
    "`IO` in comparison is lazily evaluated and not memoised. And seeing as `IO` is just an object with an `apply` method, you don't need an `ExecutionContext` every time you carry out an operation on them."
   ]
  },
  {
   "cell_type": "code",
   "execution_count": 81,
   "metadata": {
    "scrolled": true,
    "slideshow": {
     "slide_type": "slide"
    }
   },
   "outputs": [
    {
     "name": "stdout",
     "output_type": "stream",
     "text": [
      "Future is eager\n",
      "Print 4 times\n",
      "Future is memoised\n",
      "Print 4 times\n",
      "Print 4 times\n",
      "Print 4 times\n"
     ]
    },
    {
     "data": {
      "text/html": [
       "<div class=\"jp-RenderedText\">\n",
       "<pre><code><span style=\"color: rgb(0, 187, 187)\"><span class=\"ansi-cyan-fg\">ec</span></span>: <span style=\"color: rgb(0, 187, 0)\"><span class=\"ansi-green-fg\">scala</span></span>.<span style=\"color: rgb(0, 187, 0)\"><span class=\"ansi-green-fg\">concurrent</span></span>.<span style=\"color: rgb(0, 187, 0)\"><span class=\"ansi-green-fg\">ExecutionContext</span></span> = scala.concurrent.impl.ExecutionContextImpl$$anon$3@7f54cbe1[Running, parallelism = 12, size = 4, active = 0, running = 0, steals = 74, tasks = 0, submissions = 0]\n",
       "<span style=\"color: rgb(0, 187, 187)\"><span class=\"ansi-cyan-fg\">res80_1</span></span>: <span style=\"color: rgb(0, 187, 0)\"><span class=\"ansi-green-fg\">Future</span></span>[<span style=\"color: rgb(0, 187, 0)\"><span class=\"ansi-green-fg\">Unit</span></span>] = <span style=\"color: rgb(0, 187, 0)\"><span class=\"ansi-green-fg\"><span style=\"color: yellow\"><span class=\"ansi-yellow-fg\">Success</span></span>(())</span></span>\n",
       "<span style=\"color: rgb(0, 187, 187)\"><span class=\"ansi-cyan-fg\">a</span></span>: <span style=\"color: rgb(0, 187, 0)\"><span class=\"ansi-green-fg\">Future</span></span>[<span style=\"color: rgb(0, 187, 0)\"><span class=\"ansi-green-fg\">Unit</span></span>] = <span style=\"color: rgb(0, 187, 0)\"><span class=\"ansi-green-fg\"><span style=\"color: yellow\"><span class=\"ansi-yellow-fg\">Success</span></span>(())</span></span>\n",
       "<span style=\"color: rgb(0, 187, 187)\"><span class=\"ansi-cyan-fg\">res80_3</span></span>: <span style=\"color: rgb(0, 187, 0)\"><span class=\"ansi-green-fg\">Future</span></span>[<span style=\"color: rgb(0, 187, 0)\"><span class=\"ansi-green-fg\">List</span></span>[<span style=\"color: rgb(0, 187, 0)\"><span class=\"ansi-green-fg\">Unit</span></span>]] = <span style=\"color: rgb(0, 187, 0)\"><span class=\"ansi-green-fg\"><span style=\"color: yellow\"><span class=\"ansi-yellow-fg\">Success</span></span>(<span style=\"color: yellow\"><span class=\"ansi-yellow-fg\">List</span></span>((), (), (), ()))</span></span>\n",
       "<span style=\"color: rgb(0, 187, 187)\"><span class=\"ansi-cyan-fg\">res80_4</span></span>: <span style=\"color: rgb(0, 187, 0)\"><span class=\"ansi-green-fg\">Future</span></span>[<span style=\"color: rgb(0, 187, 0)\"><span class=\"ansi-green-fg\">List</span></span>[<span style=\"color: rgb(0, 187, 0)\"><span class=\"ansi-green-fg\">Unit</span></span>]] = <span style=\"color: rgb(0, 187, 0)\"><span class=\"ansi-green-fg\"><span style=\"color: yellow\"><span class=\"ansi-yellow-fg\">Success</span></span>(<span style=\"color: yellow\"><span class=\"ansi-yellow-fg\">List</span></span>((), (), (), ()))</span></span></code></pre>\n",
       "</div>"
      ],
      "text/plain": [
       "\u001b[36mec\u001b[39m: \u001b[32mscala\u001b[39m.\u001b[32mconcurrent\u001b[39m.\u001b[32mExecutionContext\u001b[39m = scala.concurrent.impl.ExecutionContextImpl$$anon$3@7f54cbe1[Running, parallelism = 12, size = 4, active = 0, running = 0, steals = 74, tasks = 0, submissions = 0]\n",
       "\u001b[36mres80_1\u001b[39m: \u001b[32mFuture\u001b[39m[\u001b[32mUnit\u001b[39m] = \u001b[32m\u001b[33mSuccess\u001b[39m(())\u001b[39m\n",
       "\u001b[36ma\u001b[39m: \u001b[32mFuture\u001b[39m[\u001b[32mUnit\u001b[39m] = \u001b[32m\u001b[33mSuccess\u001b[39m(())\u001b[39m\n",
       "\u001b[36mres80_3\u001b[39m: \u001b[32mFuture\u001b[39m[\u001b[32mList\u001b[39m[\u001b[32mUnit\u001b[39m]] = \u001b[32m\u001b[33mSuccess\u001b[39m(\u001b[33mList\u001b[39m((), (), (), ()))\u001b[39m\n",
       "\u001b[36mres80_4\u001b[39m: \u001b[32mFuture\u001b[39m[\u001b[32mList\u001b[39m[\u001b[32mUnit\u001b[39m]] = \u001b[32m\u001b[33mSuccess\u001b[39m(\u001b[33mList\u001b[39m((), (), (), ()))\u001b[39m"
      ]
     },
     "metadata": {},
     "output_type": "display_data"
    }
   ],
   "source": [
    "//ExecutionContext gets everywhere\n",
    "implicit val ec: scala.concurrent.ExecutionContext = scala.concurrent.ExecutionContext.global\n",
    "Future(println(\"Future is eager\")) //msg has executed even though Future(msg) isn't assigned to anything and the result is lost\n",
    "\n",
    "val a = Future(println(\"Future is memoised\"))\n",
    "Future.sequence(List(a, a, a, a)) // Only prints once\n",
    "\n",
    "// Prints four times\n",
    "Future.sequence(List(Future(println(\"Print 4 times\")),Future(println(\"Print 4 times\")), Future(println(\"Print 4 times\")), Future(println(\"Print 4 times\"))))\n"
   ]
  },
  {
   "cell_type": "markdown",
   "metadata": {
    "slideshow": {
     "slide_type": "slide"
    }
   },
   "source": [
    "## One monad to rule them all\n",
    "\n",
    "There are often methods which return `Either` methods which return `Option` and methods which return `Try` and trying to get all of the different values out to process them can result in some convoluted method signatures like the `Either[String, Option[Try[String]]]` below. \n",
    "\n",
    "`IO` has methods to convert the existing Scala monads into instances of IO which then allows you to construct a program using a for comprehension which, if done properly, can make the flow of the program clear.\n",
    "\n",
    "There are methods on `Option` `Either` and `Try` to convert them to the others but this along with the other IO advantages makes sense"
   ]
  },
  {
   "cell_type": "code",
   "execution_count": 86,
   "metadata": {
    "slideshow": {
     "slide_type": "slide"
    }
   },
   "outputs": [
    {
     "data": {
      "text/plain": [
       "defined \u001b[32mfunction\u001b[39m \u001b[36meither\u001b[39m\n",
       "defined \u001b[32mfunction\u001b[39m \u001b[36moption\u001b[39m\n",
       "defined \u001b[32mfunction\u001b[39m \u001b[36mtrying\u001b[39m\n",
       "\u001b[36mres85_3\u001b[39m: \u001b[32mEither\u001b[39m[\u001b[32mThrowable\u001b[39m, \u001b[32mOption\u001b[39m[\u001b[32mTry\u001b[39m[\u001b[32mString\u001b[39m]]] = \u001b[33mRight\u001b[39m(\n",
       "  \u001b[33mSome\u001b[39m(\u001b[33mSuccess\u001b[39m(\u001b[32m\"Either Option Try\"\u001b[39m))\n",
       ")\n",
       "\u001b[36mres85_4\u001b[39m: \u001b[32mString\u001b[39m = \u001b[32m\"Either Option Try\"\u001b[39m"
      ]
     },
     "execution_count": 86,
     "metadata": {},
     "output_type": "execute_result"
    }
   ],
   "source": [
    "def either: Either[Throwable, String] = Right(\"Either\")\n",
    "def option = Some(\"Option\")\n",
    "def trying = Try(\"Try\")\n",
    "\n",
    "either.map(e => {\n",
    "    option.map(o => {\n",
    "        trying.map(t => {\n",
    "            s\"$e $o $t\"\n",
    "        })\n",
    "    })\n",
    "})\n",
    "\n",
    "(for {\n",
    "    e <- IO.fromEither(either)\n",
    "    o <- IO.fromOption(option)(new Exception(\"No option\"))\n",
    "    t <- IO.fromTry(trying)\n",
    "} yield s\"$e $o $t\").unsafeRunSync()\n"
   ]
  },
  {
   "cell_type": "markdown",
   "metadata": {
    "slideshow": {
     "slide_type": "slide"
    }
   },
   "source": [
    "## Resource safety"
   ]
  },
  {
   "cell_type": "code",
   "execution_count": 88,
   "metadata": {},
   "outputs": [
    {
     "data": {
      "text/plain": [
       "\u001b[36mstream\u001b[39m: \u001b[32mIO\u001b[39m[\u001b[32mFileOutputStream\u001b[39m] = \u001b[33mDelay\u001b[39m(\n",
       "  ammonite.$sess.cmd87$Helper$$Lambda$3889/394211473@4ef7e89d\n",
       ")\n",
       "\u001b[36mres87_1\u001b[39m: \u001b[32mResource\u001b[39m[\u001b[32mIO\u001b[39m, \u001b[32mFileOutputStream\u001b[39m] = \u001b[33mAllocate\u001b[39m(\n",
       "  \u001b[33mMap\u001b[39m(\n",
       "    \u001b[33mMap\u001b[39m(\n",
       "      \u001b[33mDelay\u001b[39m(ammonite.$sess.cmd87$Helper$$Lambda$3889/394211473@4ef7e89d),\n",
       "      cats.effect.Resource$$$Lambda$3891/1267459807@6194908e,\n",
       "      \u001b[33mStackTrace\u001b[39m(\n",
       "        \u001b[33mList\u001b[39m(\n",
       "          cats.effect.internals.IOTracing$.buildFrame(IOTracing.scala:48),\n",
       "          cats.effect.internals.IOTracing$.buildCachedFrame(IOTracing.scala:39),\n",
       "          cats.effect.internals.IOTracing$.cached(IOTracing.scala:34),\n",
       "          cats.effect.IO.map(IO.scala:106),\n",
       "          cats.effect.IOLowPriorityInstances$IOEffect.map(IO.scala:870),\n",
       "          cats.effect.IOLowPriorityInstances$IOEffect.map(IO.scala:863),\n",
       "          cats.Functor$Ops.map(Functor.scala:233),\n",
       "          cats.Functor$Ops.map$(Functor.scala:233),\n",
       "          cats.Functor$ToFunctorOps$$anon$4.map(Functor.scala:250),\n",
       "          cats.effect.Resource$.make(Resource.scala:384),\n",
       "          ammonite.$sess.cmd87$Helper.<init>(cmd87.sc:2),\n",
       "          ammonite.$sess.cmd87$.<clinit>(cmd87.sc:7),\n",
       "          ammonite.$sess.cmd87.$main(cmd87.sc),\n",
       "          sun.reflect.NativeMethodAccessorImpl.invoke0(Native Method),\n",
       "          sun.reflect.NativeMethodAccessorImpl.invoke(NativeMethodAccessorImpl.java:62),\n",
       "          sun.reflect.DelegatingMethodAccessorImpl.invoke(DelegatingMethodAccessorImpl.java:43),\n",
       "          java.lang.reflect.Method.invoke(Method.java:498),\n",
       "          ammonite.runtime.Evaluator$$anon$1.$anonfun$evalMain$1(Evaluator.scala:108),\n",
       "          ammonite.util.Util$.withContextClassloader(Util.scala:24),\n",
       "          ammonite.runtime.Evaluator$$anon$1.evalMain(Evaluator.scala:90),\n",
       "          ammonite.runtime.Evaluator$$anon$1.$anonfun$processLine$2(Evaluator.scala:127),\n",
       "          ammonite.util.Catching.map(Res.scala:117),\n",
       "          ammonite.runtime.Evaluator$$anon$1.$anonfun$processLine$1(Evaluator.scala:121),\n",
       "          ammonite.util.Res$Success.flatMap(Res.scala:62),\n",
       "          ammonite.runtime.Evaluator$$anon$1.processLine(Evaluator.scala:120),\n",
       "          ammonite.interp.Interpreter.$anonfun$evaluateLine$4(Interpreter.scala:295),\n",
       "..."
      ]
     },
     "execution_count": 88,
     "metadata": {},
     "output_type": "execute_result"
    }
   ],
   "source": [
    "val stream = IO(new java.io.FileOutputStream(new File(\"\")))\n",
    "Resource.make(stream)(str => {\n",
    "    str.close()\n",
    "    IO.unit\n",
    "})"
   ]
  }
 ],
 "metadata": {
  "celltoolbar": "Slideshow",
  "kernelspec": {
   "display_name": "Scala 2.13",
   "language": "scala",
   "name": "scala213"
  },
  "language_info": {
   "codemirror_mode": "text/x-scala",
   "file_extension": ".sc",
   "mimetype": "text/x-scala",
   "name": "scala",
   "nbconvert_exporter": "script",
   "version": "2.13.3"
  }
 },
 "nbformat": 4,
 "nbformat_minor": 4
}
